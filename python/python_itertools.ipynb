{
  "nbformat": 4,
  "nbformat_minor": 0,
  "metadata": {
    "colab": {
      "name": "python-itertools.ipynb",
      "provenance": [],
      "include_colab_link": true
    },
    "kernelspec": {
      "name": "python3",
      "display_name": "Python 3"
    }
  },
  "cells": [
    {
      "cell_type": "markdown",
      "metadata": {
        "id": "view-in-github",
        "colab_type": "text"
      },
      "source": [
        "<a href=\"https://colab.research.google.com/github/coda-nsit/languages/blob/master/python/python_itertools.ipynb\" target=\"_parent\"><img src=\"https://colab.research.google.com/assets/colab-badge.svg\" alt=\"Open In Colab\"/></a>"
      ]
    },
    {
      "cell_type": "markdown",
      "metadata": {
        "id": "3Am6Sm1q-A54",
        "colab_type": "text"
      },
      "source": [
        "# Example codes on `itertools` module of Python\n",
        "https://www.youtube.com/watch?v=Qu3dThVy6KQ"
      ]
    },
    {
      "cell_type": "code",
      "metadata": {
        "id": "Di2Cmz-eufLf",
        "colab_type": "code",
        "colab": {}
      },
      "source": [
        "import itertools"
      ],
      "execution_count": 0,
      "outputs": []
    },
    {
      "cell_type": "markdown",
      "metadata": {
        "id": "5ytxHP1fum1V",
        "colab_type": "text"
      },
      "source": [
        "## count"
      ]
    },
    {
      "cell_type": "code",
      "metadata": {
        "id": "eqAmfPLlukxt",
        "colab_type": "code",
        "colab": {
          "base_uri": "https://localhost:8080/",
          "height": 119
        },
        "outputId": "5be7176b-cb7e-4d73-eda0-777db6b0e491"
      },
      "source": [
        "counter = itertools.count(start=5, step=10.001)\n",
        "x = [3, 4, 10, 11, 19, 24]\n",
        "list(zip(counter, x))"
      ],
      "execution_count": 6,
      "outputs": [
        {
          "output_type": "execute_result",
          "data": {
            "text/plain": [
              "[(5, 3),\n",
              " (15.001, 4),\n",
              " (25.002, 10),\n",
              " (35.003, 11),\n",
              " (45.004, 19),\n",
              " (55.004999999999995, 24)]"
            ]
          },
          "metadata": {
            "tags": []
          },
          "execution_count": 6
        }
      ]
    },
    {
      "cell_type": "code",
      "metadata": {
        "id": "QpYdZjYWu73d",
        "colab_type": "code",
        "colab": {
          "base_uri": "https://localhost:8080/",
          "height": 34
        },
        "outputId": "d7b5c45b-21cd-426f-d664-080defdd2e44"
      },
      "source": [
        "x_"
      ],
      "execution_count": 5,
      "outputs": [
        {
          "output_type": "execute_result",
          "data": {
            "text/plain": [
              "[(5, 3), (15, 4), (25, 10), (35, 11), (45, 19), (55, 24)]"
            ]
          },
          "metadata": {
            "tags": []
          },
          "execution_count": 5
        }
      ]
    },
    {
      "cell_type": "markdown",
      "metadata": {
        "id": "8Al_RG5NvUMO",
        "colab_type": "text"
      },
      "source": [
        "## zip_longest"
      ]
    },
    {
      "cell_type": "code",
      "metadata": {
        "id": "GlslxxpWu80a",
        "colab_type": "code",
        "colab": {
          "base_uri": "https://localhost:8080/",
          "height": 357
        },
        "outputId": "cf4889b1-cc8f-48ad-f5a7-75b802308031"
      },
      "source": [
        "x = list(itertools.zip_longest(range(100), x))\n",
        "x[:20]"
      ],
      "execution_count": 7,
      "outputs": [
        {
          "output_type": "execute_result",
          "data": {
            "text/plain": [
              "[(0, 3),\n",
              " (1, 4),\n",
              " (2, 10),\n",
              " (3, 11),\n",
              " (4, 19),\n",
              " (5, 24),\n",
              " (6, None),\n",
              " (7, None),\n",
              " (8, None),\n",
              " (9, None),\n",
              " (10, None),\n",
              " (11, None),\n",
              " (12, None),\n",
              " (13, None),\n",
              " (14, None),\n",
              " (15, None),\n",
              " (16, None),\n",
              " (17, None),\n",
              " (18, None),\n",
              " (19, None)]"
            ]
          },
          "metadata": {
            "tags": []
          },
          "execution_count": 7
        }
      ]
    },
    {
      "cell_type": "markdown",
      "metadata": {
        "id": "apK1DRxqvnv8",
        "colab_type": "text"
      },
      "source": [
        "## cycle"
      ]
    },
    {
      "cell_type": "code",
      "metadata": {
        "id": "d2DQSd0yviU0",
        "colab_type": "code",
        "colab": {
          "base_uri": "https://localhost:8080/",
          "height": 34
        },
        "outputId": "74ddb279-f4fd-4cdd-f72f-5fd1d1010cb4"
      },
      "source": [
        "counter = itertools.cycle([\"on\", \"off\"])\n",
        "x = [3, 4, 10, 11, 19, 24]\n",
        "list(zip(counter, x))"
      ],
      "execution_count": 9,
      "outputs": [
        {
          "output_type": "execute_result",
          "data": {
            "text/plain": [
              "[('on', 3), ('off', 4), ('on', 10), ('off', 11), ('on', 19), ('off', 24)]"
            ]
          },
          "metadata": {
            "tags": []
          },
          "execution_count": 9
        }
      ]
    },
    {
      "cell_type": "markdown",
      "metadata": {
        "id": "VjWKCTpGv3qj",
        "colab_type": "text"
      },
      "source": [
        "## repeat"
      ]
    },
    {
      "cell_type": "code",
      "metadata": {
        "id": "tI8rBcbWvybv",
        "colab_type": "code",
        "colab": {
          "base_uri": "https://localhost:8080/",
          "height": 249
        },
        "outputId": "31b7726f-956e-438d-e756-faf2044c3e11"
      },
      "source": [
        "counter = itertools.repeat(2, times=3)\n",
        "print(next(counter))\n",
        "print(next(counter))\n",
        "print(next(counter))\n",
        "\n",
        "print(next(counter))"
      ],
      "execution_count": 10,
      "outputs": [
        {
          "output_type": "stream",
          "text": [
            "2\n",
            "2\n",
            "2\n"
          ],
          "name": "stdout"
        },
        {
          "output_type": "error",
          "ename": "StopIteration",
          "evalue": "ignored",
          "traceback": [
            "\u001b[0;31m---------------------------------------------------------------------------\u001b[0m",
            "\u001b[0;31mStopIteration\u001b[0m                             Traceback (most recent call last)",
            "\u001b[0;32m<ipython-input-10-c91f96d51549>\u001b[0m in \u001b[0;36m<module>\u001b[0;34m()\u001b[0m\n\u001b[1;32m      4\u001b[0m \u001b[0mprint\u001b[0m\u001b[0;34m(\u001b[0m\u001b[0mnext\u001b[0m\u001b[0;34m(\u001b[0m\u001b[0mcounter\u001b[0m\u001b[0;34m)\u001b[0m\u001b[0;34m)\u001b[0m\u001b[0;34m\u001b[0m\u001b[0;34m\u001b[0m\u001b[0m\n\u001b[1;32m      5\u001b[0m \u001b[0;34m\u001b[0m\u001b[0m\n\u001b[0;32m----> 6\u001b[0;31m \u001b[0mprint\u001b[0m\u001b[0;34m(\u001b[0m\u001b[0mnext\u001b[0m\u001b[0;34m(\u001b[0m\u001b[0mcounter\u001b[0m\u001b[0;34m)\u001b[0m\u001b[0;34m)\u001b[0m\u001b[0;34m\u001b[0m\u001b[0;34m\u001b[0m\u001b[0m\n\u001b[0m",
            "\u001b[0;31mStopIteration\u001b[0m: "
          ]
        }
      ]
    },
    {
      "cell_type": "markdown",
      "metadata": {
        "id": "glj0LP73wgkF",
        "colab_type": "text"
      },
      "source": [
        "## Example: square every number"
      ]
    },
    {
      "cell_type": "code",
      "metadata": {
        "id": "6LoTlVNxwPaa",
        "colab_type": "code",
        "colab": {
          "base_uri": "https://localhost:8080/",
          "height": 51
        },
        "outputId": "0c8b1710-ffe2-4f10-f1e6-7a3830a3577f"
      },
      "source": [
        "print(list(map(pow, range(10), itertools.repeat(2))))\n",
        "print(list(itertools.starmap(pow, [(0, 2), (1, 2), (2, 2), (3, 2), (4, 2), (5, 2), (6, 2), (7, 2), (8, 2), (9, 2)])))"
      ],
      "execution_count": 12,
      "outputs": [
        {
          "output_type": "stream",
          "text": [
            "[0, 1, 4, 9, 16, 25, 36, 49, 64, 81]\n",
            "[0, 1, 4, 9, 16, 25, 36, 49, 64, 81]\n"
          ],
          "name": "stdout"
        }
      ]
    },
    {
      "cell_type": "markdown",
      "metadata": {
        "id": "5E7Q2CO2y6vm",
        "colab_type": "text"
      },
      "source": [
        "## Combinations and Permutations"
      ]
    },
    {
      "cell_type": "code",
      "metadata": {
        "id": "KqQg2lNIwuaR",
        "colab_type": "code",
        "colab": {
          "base_uri": "https://localhost:8080/",
          "height": 105
        },
        "outputId": "77b38e54-6fe3-4b4d-8ea9-be86f71058a5"
      },
      "source": [
        "x = [0, 1, 2, 3, 4]\n",
        "print(list(itertools.combinations(x, 2)))\n",
        "print(list(itertools.combinations_with_replacement(x, 2)))\n",
        "print(list(itertools.permutations(x, 2)))\n",
        "print(list(itertools.product(x, repeat=2)))"
      ],
      "execution_count": 17,
      "outputs": [
        {
          "output_type": "stream",
          "text": [
            "[(0, 1), (0, 2), (0, 3), (0, 4), (1, 2), (1, 3), (1, 4), (2, 3), (2, 4), (3, 4)]\n",
            "[(0, 0), (0, 1), (0, 2), (0, 3), (0, 4), (1, 1), (1, 2), (1, 3), (1, 4), (2, 2), (2, 3), (2, 4), (3, 3), (3, 4), (4, 4)]\n",
            "[(0, 1), (0, 2), (0, 3), (0, 4), (1, 0), (1, 2), (1, 3), (1, 4), (2, 0), (2, 1), (2, 3), (2, 4), (3, 0), (3, 1), (3, 2), (3, 4), (4, 0), (4, 1), (4, 2), (4, 3)]\n",
            "[(0, 0), (0, 1), (0, 2), (0, 3), (0, 4), (1, 0), (1, 1), (1, 2), (1, 3), (1, 4), (2, 0), (2, 1), (2, 2), (2, 3), (2, 4), (3, 0), (3, 1), (3, 2), (3, 3), (3, 4), (4, 0), (4, 1), (4, 2), (4, 3), (4, 4)]\n"
          ],
          "name": "stdout"
        }
      ]
    },
    {
      "cell_type": "markdown",
      "metadata": {
        "id": "DQ1njGvtzqzq",
        "colab_type": "text"
      },
      "source": [
        "## Chain\n",
        "Chains iterables i.e. first iterate through one iterable and then the second and so on, till the chain is over."
      ]
    },
    {
      "cell_type": "code",
      "metadata": {
        "id": "eywn6o3-zC1G",
        "colab_type": "code",
        "colab": {
          "base_uri": "https://localhost:8080/",
          "height": 272
        },
        "outputId": "08409ee8-2836-4514-860a-654fe7d9040c"
      },
      "source": [
        "letters = [\"a\", \"b\", \"c\", \"d\"]\n",
        "numbers = [0, 1, 2]\n",
        "names = [\"rishab\", \"ashm\", \"ravish\", \"rohan\", \"banerjee\", \"manav\", \"ankush\", \"kaushik\"]\n",
        "\n",
        "list(itertools.chain(letters, numbers, names))"
      ],
      "execution_count": 20,
      "outputs": [
        {
          "output_type": "execute_result",
          "data": {
            "text/plain": [
              "['a',\n",
              " 'b',\n",
              " 'c',\n",
              " 'd',\n",
              " 0,\n",
              " 1,\n",
              " 2,\n",
              " 'rishab',\n",
              " 'ashm',\n",
              " 'ravish',\n",
              " 'rohan',\n",
              " 'banerjee',\n",
              " 'manav',\n",
              " 'ankush',\n",
              " 'kaushik']"
            ]
          },
          "metadata": {
            "tags": []
          },
          "execution_count": 20
        }
      ]
    },
    {
      "cell_type": "markdown",
      "metadata": {
        "id": "kvaMS8V60iPe",
        "colab_type": "text"
      },
      "source": [
        "## islice: Slicing on an iterator\n",
        "**Why is it useful?**\n",
        "\n",
        "The dataset might be too big for example, 100000000000000 elements and we might need data intervals of say 100000. The entire dataset will not fit in memory.\n",
        "\n",
        "This can be really useful if for example, we have to read a large file. But not line by line, but lines in steps of 5.\n"
      ]
    },
    {
      "cell_type": "code",
      "metadata": {
        "id": "GtRvHkl90Uqe",
        "colab_type": "code",
        "colab": {
          "base_uri": "https://localhost:8080/",
          "height": 34
        },
        "outputId": "9b74de37-5e56-4355-a5c0-8be7b815f687"
      },
      "source": [
        "list(itertools.islice(range(10), 1, 5, 2))"
      ],
      "execution_count": 21,
      "outputs": [
        {
          "output_type": "execute_result",
          "data": {
            "text/plain": [
              "[1, 3]"
            ]
          },
          "metadata": {
            "tags": []
          },
          "execution_count": 21
        }
      ]
    },
    {
      "cell_type": "markdown",
      "metadata": {
        "id": "lIbDwQj-5KRF",
        "colab_type": "text"
      },
      "source": [
        "## Compress and Filter\n",
        "Filter based on an iterator value.\n",
        "\n",
        "The difference between `filter` and `compress` is that, `filter` uses a function to decide if the element should be included or not whereas, `compress` uses iterators for the same."
      ]
    },
    {
      "cell_type": "code",
      "metadata": {
        "id": "K2XPQClH2vzU",
        "colab_type": "code",
        "colab": {
          "base_uri": "https://localhost:8080/",
          "height": 68
        },
        "outputId": "a8d27062-4637-4c7a-9bef-79134fa375c6"
      },
      "source": [
        "names = [\"rishab\", \"ashm\", \"ravish\", \"rohan\", \"banerjee\", \"manav\", \"ankush\", \"kaushik\"]\n",
        "isMarried = [False, True, False, True, False, True, True, True]\n",
        "numbers = [0, 1, 6, 10, 1, 2, 5, 11]\n",
        "\n",
        "def less_than_5(numb):\n",
        "  return numb < 5\n",
        "\n",
        "print(list(itertools.compress(names, isMarried)))\n",
        "print(list(itertools.filterfalse(less_than_5, numbers)))\n",
        "print(list(filter(less_than_5, numbers)))"
      ],
      "execution_count": 26,
      "outputs": [
        {
          "output_type": "stream",
          "text": [
            "['ashm', 'rohan', 'manav', 'ankush', 'kaushik']\n",
            "[6, 10, 5, 11]\n",
            "[0, 1, 1, 2]\n"
          ],
          "name": "stdout"
        }
      ]
    },
    {
      "cell_type": "markdown",
      "metadata": {
        "id": "aLYYGt3467Lz",
        "colab_type": "text"
      },
      "source": [
        "## Accumulate\n",
        "Accumulates the values that an iterable sees. By default, it adds the iterables it sees."
      ]
    },
    {
      "cell_type": "code",
      "metadata": {
        "id": "xNEUm0cM5h_b",
        "colab_type": "code",
        "colab": {
          "base_uri": "https://localhost:8080/",
          "height": 51
        },
        "outputId": "e5d67a66-77f2-422a-a498-7de936bf79b8"
      },
      "source": [
        "numbers = [1, 1, 6, 10, 1, 2, 5, 11]\n",
        "\n",
        "# add\n",
        "print(list(itertools.accumulate(numbers)))\n",
        "\n",
        "# product\n",
        "import operator\n",
        "print(list(itertools.accumulate(numbers, operator.mul)))\n"
      ],
      "execution_count": 31,
      "outputs": [
        {
          "output_type": "stream",
          "text": [
            "[1, 2, 8, 18, 19, 21, 26, 37]\n",
            "[1, 1, 6, 60, 60, 120, 600, 6600]\n"
          ],
          "name": "stdout"
        }
      ]
    },
    {
      "cell_type": "markdown",
      "metadata": {
        "id": "jdI-w6Jd765O",
        "colab_type": "text"
      },
      "source": [
        "## Group By\n",
        "Go through an iterable and group values based on a certain key. \n",
        "\n",
        "Returns a stream of tuples, (key on which the items were grouped on, iterator over the items that were grouped by the key)"
      ]
    },
    {
      "cell_type": "code",
      "metadata": {
        "id": "psSbFIdN7M5M",
        "colab_type": "code",
        "colab": {}
      },
      "source": [
        "people = [\n",
        "    {\n",
        "        'name': 'John Doe',\n",
        "        'city': 'Gotham',\n",
        "        'state': 'NY'\n",
        "    },\n",
        "    {\n",
        "        'name': 'Jane Doe',\n",
        "        'city': 'Kings Landing',\n",
        "        'state': 'NY'\n",
        "    },\n",
        "    {\n",
        "        'name': 'Corey Schafer',\n",
        "        'city': 'Boulder',\n",
        "        'state': 'CO'\n",
        "    },\n",
        "    {\n",
        "        'name': 'Al Einstein',\n",
        "        'city': 'Denver',\n",
        "        'state': 'CO'\n",
        "    },\n",
        "    {\n",
        "        'name': 'John Henry',\n",
        "        'city': 'Hinton',\n",
        "        'state': 'WV'\n",
        "    },\n",
        "    {\n",
        "        'name': 'Randy Moss',\n",
        "        'city': 'Rand',\n",
        "        'state': 'WV'\n",
        "    },\n",
        "    {\n",
        "        'name': 'Nicole K',\n",
        "        'city': 'Asheville',\n",
        "        'state': 'NC'\n",
        "    },\n",
        "    {\n",
        "        'name': 'Jim Doe',\n",
        "        'city': 'Charlotte',\n",
        "        'state': 'NC'\n",
        "    },\n",
        "    {\n",
        "        'name': 'Jane Taylor',\n",
        "        'city': 'Faketown',\n",
        "        'state': 'NC'\n",
        "    }\n",
        "]"
      ],
      "execution_count": 0,
      "outputs": []
    },
    {
      "cell_type": "code",
      "metadata": {
        "id": "Kt9tWp4675qR",
        "colab_type": "code",
        "colab": {}
      },
      "source": [
        "def get_state(person):\n",
        "    return person['state']"
      ],
      "execution_count": 0,
      "outputs": []
    },
    {
      "cell_type": "code",
      "metadata": {
        "id": "XHOZwKk476BA",
        "colab_type": "code",
        "colab": {
          "base_uri": "https://localhost:8080/",
          "height": 85
        },
        "outputId": "8cf2c6a0-fe20-4030-e390-790ea0c2786b"
      },
      "source": [
        "person_group = itertools.groupby(people, get_state)\n",
        "for key, group in person_group:\n",
        "  print(key, group)"
      ],
      "execution_count": 37,
      "outputs": [
        {
          "output_type": "stream",
          "text": [
            "NY <itertools._grouper object at 0x7f142215bcf8>\n",
            "CO <itertools._grouper object at 0x7f142215b630>\n",
            "WV <itertools._grouper object at 0x7f142215bcf8>\n",
            "NC <itertools._grouper object at 0x7f142215b630>\n"
          ],
          "name": "stdout"
        }
      ]
    },
    {
      "cell_type": "markdown",
      "metadata": {
        "id": "fBxkX_9o9KS3",
        "colab_type": "text"
      },
      "source": [
        "## tee\n",
        "copying iterators.\n",
        "\n",
        "After a iterator is copied, it shouldn't be used.\n",
        "\n",
        "`x` and `y` are independent of each other i.e. `next(x)` won't affect y"
      ]
    },
    {
      "cell_type": "code",
      "metadata": {
        "id": "9hUMtKEM80dY",
        "colab_type": "code",
        "colab": {}
      },
      "source": [
        "x = [0, 1, 2, 3, 4]\n",
        "combination_iterator = itertools.combinations(x, 2)\n",
        "x, y = itertools.tee(combination_iterator)\n"
      ],
      "execution_count": 0,
      "outputs": []
    },
    {
      "cell_type": "code",
      "metadata": {
        "id": "Dvck_ASF9mT4",
        "colab_type": "code",
        "colab": {}
      },
      "source": [
        ""
      ],
      "execution_count": 0,
      "outputs": []
    }
  ]
}